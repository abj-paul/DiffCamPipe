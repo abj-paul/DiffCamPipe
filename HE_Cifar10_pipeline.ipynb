{
 "cells": [
  {
   "cell_type": "markdown",
   "id": "08c556a0",
   "metadata": {},
   "source": [
    "### HE_Cifar10 Original Pipeline"
   ]
  },
  {
   "cell_type": "code",
   "execution_count": 2,
   "id": "cfa56bda",
   "metadata": {},
   "outputs": [
    {
     "name": "stdout",
     "output_type": "stream",
     "text": [
      "Hello\n"
     ]
    }
   ],
   "source": [
    "print(\"Hello\")"
   ]
  },
  {
   "cell_type": "code",
   "execution_count": null,
   "id": "f1e5038c",
   "metadata": {},
   "outputs": [
    {
     "name": "stdout",
     "output_type": "stream",
     "text": [
      "Epoch finished. Loss: 1.7871\n",
      "Epoch finished. Loss: 2.0357\n",
      "Epoch finished. Loss: 2.0957\n",
      "Epoch finished. Loss: 1.9613\n",
      "Epoch finished. Loss: 1.5575\n",
      "Epoch finished. Loss: 1.5815\n",
      "Epoch finished. Loss: 1.6980\n",
      "Epoch finished. Loss: 1.5047\n",
      "Epoch finished. Loss: 1.9394\n",
      "Epoch finished. Loss: 1.6374\n",
      "Test Accuracy: 41.78%\n",
      "Model saved to camera_pipeline_model.pth\n"
     ]
    }
   ],
   "source": [
    "import torch\n",
    "import torch.nn as nn\n",
    "import torch.nn.functional as F\n",
    "from torchvision import transforms, datasets\n",
    "import cv2\n",
    "import numpy as np\n",
    "from PIL import Image\n",
    "\n",
    "# -------- Non-differentiable filter: Histogram Equalization (grayscale) --------\n",
    "def histogram_equalization(img_tensor):\n",
    "    img_np = img_tensor.permute(1, 2, 0).numpy() * 255  # [C, H, W] → [H, W, C], [0, 1] → [0, 255]\n",
    "    img_np = img_np.astype(np.uint8)\n",
    "\n",
    "    # Convert to grayscale and apply histogram equalization\n",
    "    gray = cv2.cvtColor(img_np, cv2.COLOR_RGB2GRAY)\n",
    "    eq = cv2.equalizeHist(gray)\n",
    "    \n",
    "    # Convert back to RGB (grayscale to RGB)\n",
    "    eq_rgb = cv2.cvtColor(eq, cv2.COLOR_GRAY2RGB)\n",
    "    eq_tensor = torch.from_numpy(eq_rgb / 255.0).float().permute(2, 0, 1)  # Back to [C, H, W]\n",
    "    return eq_tensor\n",
    "\n",
    "# -------- Small CNN --------\n",
    "class SimpleCNN(nn.Module):\n",
    "    def __init__(self, num_classes=10):\n",
    "        super().__init__()\n",
    "        self.conv = nn.Sequential(\n",
    "            nn.Conv2d(3, 16, 3, padding=1),\n",
    "            nn.ReLU(),\n",
    "            nn.MaxPool2d(2),\n",
    "            nn.Conv2d(16, 32, 3, padding=1),\n",
    "            nn.ReLU(),\n",
    "            nn.AdaptiveAvgPool2d(1)\n",
    "        )\n",
    "        self.fc = nn.Linear(32, num_classes)\n",
    "\n",
    "    def forward(self, x):\n",
    "        x = self.conv(x)\n",
    "        x = x.view(x.size(0), -1)\n",
    "        return self.fc(x)\n",
    "\n",
    "# -------- Dataset Loader (CIFAR10 as example) --------\n",
    "transform_raw = transforms.Compose([\n",
    "    transforms.Resize((32, 32)),\n",
    "    transforms.ToTensor()\n",
    "])\n",
    "\n",
    "train_data = datasets.CIFAR10(root='./data', train=True, download=True, transform=transform_raw)\n",
    "train_loader = torch.utils.data.DataLoader(train_data, batch_size=32, shuffle=True)\n",
    "\n",
    "# -------- Training loop --------\n",
    "device = torch.device(\"cuda\" if torch.cuda.is_available() else \"cpu\")\n",
    "model = SimpleCNN(num_classes=10).to(device)\n",
    "optimizer = torch.optim.Adam(model.parameters(), lr=1e-3)\n",
    "criterion = nn.CrossEntropyLoss()\n",
    "\n",
    "for epoch in range(10):  # Train only one epoch for testing\n",
    "    for images, labels in train_loader:\n",
    "        # Apply the non-differentiable filter to each image\n",
    "        filtered = torch.stack([histogram_equalization(img) for img in images])\n",
    "        filtered = filtered.to(device)\n",
    "        labels = labels.to(device)\n",
    "\n",
    "        # Forward pass\n",
    "        outputs = model(filtered)\n",
    "        loss = criterion(outputs, labels)\n",
    "\n",
    "        # Backward + Optimize\n",
    "        optimizer.zero_grad()\n",
    "        loss.backward()\n",
    "        optimizer.step()\n",
    "\n",
    "    print(f\"Epoch finished. Loss: {loss.item():.4f}\")\n",
    "# -------- Load test dataset --------\n",
    "test_data = datasets.CIFAR10(root='./data', train=False, download=True, transform=transform_raw)\n",
    "test_loader = torch.utils.data.DataLoader(test_data, batch_size=32, shuffle=False)\n",
    "\n",
    "\n",
    "# -------- Evaluation function --------\n",
    "def evaluate_model(model, dataloader):\n",
    "    model.eval()\n",
    "    correct = 0\n",
    "    total = 0\n",
    "\n",
    "    with torch.no_grad():\n",
    "        for images, labels in dataloader:\n",
    "            # Apply non-differentiable filter\n",
    "            filtered = torch.stack([histogram_equalization(img) for img in images])\n",
    "            filtered = filtered.to(device)\n",
    "            labels = labels.to(device)\n",
    "\n",
    "            outputs = model(filtered)\n",
    "            _, predicted = torch.max(outputs.data, 1)\n",
    "            total += labels.size(0)\n",
    "            correct += (predicted == labels).sum().item()\n",
    "\n",
    "    accuracy = correct / total\n",
    "    print(f\"Test Accuracy: {accuracy * 100:.2f}%\")\n",
    "    model.train()\n",
    "    return accuracy\n",
    "\n",
    "# -------- Evaluate the trained model --------\n",
    "evaluate_model(model, test_loader)\n",
    "\n",
    "# -------- Save the model --------\n",
    "torch.save(model.state_dict(), \"camera_pipeline_model.pth\")\n",
    "print(\"Model saved to camera_pipeline_model.pth\")\n"
   ]
  },
  {
   "cell_type": "markdown",
   "id": "349db851",
   "metadata": {},
   "source": [
    "### Neural Surrogate"
   ]
  },
  {
   "cell_type": "code",
   "execution_count": 10,
   "id": "f84108c9",
   "metadata": {},
   "outputs": [],
   "source": [
    "class DifferentiableHE(nn.Module):\n",
    "    def __init__(self):\n",
    "        super().__init__()\n",
    "        self.net = nn.Sequential(\n",
    "            nn.Conv2d(3, 16, kernel_size=3, padding=1),\n",
    "            nn.ReLU(),\n",
    "            nn.Conv2d(16, 3, kernel_size=3, padding=1),\n",
    "            nn.Sigmoid()  # Keep output in [0, 1]\n",
    "        )\n",
    "\n",
    "    def forward(self, x):\n",
    "        return self.net(x)\n"
   ]
  },
  {
   "cell_type": "code",
   "execution_count": 11,
   "id": "94a0e7e7",
   "metadata": {},
   "outputs": [
    {
     "name": "stdout",
     "output_type": "stream",
     "text": [
      "[Pretraining HE Approx] Loss: 0.1327\n"
     ]
    }
   ],
   "source": [
    "diff_he_model = DifferentiableHE().to(device)\n",
    "he_optimizer = torch.optim.Adam(diff_he_model.parameters(), lr=1e-3)\n",
    "he_criterion = nn.L1Loss()  # or nn.MSELoss()\n",
    "\n",
    "# Pretrain for 1 epoch\n",
    "for images, _ in train_loader:\n",
    "    images = images.to(device)\n",
    "    with torch.no_grad():\n",
    "        target_he = torch.stack([histogram_equalization(img.cpu()) for img in images]).to(device)\n",
    "\n",
    "    output = diff_he_model(images)\n",
    "    loss = he_criterion(output, target_he)\n",
    "\n",
    "    he_optimizer.zero_grad()\n",
    "    loss.backward()\n",
    "    he_optimizer.step()\n",
    "\n",
    "print(f\"[Pretraining HE Approx] Loss: {loss.item():.4f}\")\n"
   ]
  },
  {
   "cell_type": "code",
   "execution_count": 12,
   "id": "75901da0",
   "metadata": {},
   "outputs": [],
   "source": [
    "torch.save(diff_he_model.state_dict(), \"pretrained_he.pth\")"
   ]
  },
  {
   "cell_type": "code",
   "execution_count": 6,
   "id": "056e24dd",
   "metadata": {},
   "outputs": [],
   "source": [
    "# Forward through differentiable approximation\n",
    "filtered = diff_he_model(images.to(device))\n",
    "outputs = model(filtered)"
   ]
  },
  {
   "cell_type": "code",
   "execution_count": 7,
   "id": "13b88ca4",
   "metadata": {},
   "outputs": [],
   "source": [
    "class FullCameraPipeline(nn.Module):\n",
    "    def __init__(self, num_classes=10):\n",
    "        super().__init__()\n",
    "        self.he = DifferentiableHE()\n",
    "        self.cnn = SimpleCNN(num_classes=num_classes)\n",
    "\n",
    "    def forward(self, x):\n",
    "        x = self.he(x)\n",
    "        return self.cnn(x)\n"
   ]
  },
  {
   "cell_type": "code",
   "execution_count": 15,
   "id": "6accf24d",
   "metadata": {},
   "outputs": [
    {
     "name": "stdout",
     "output_type": "stream",
     "text": [
      "Epoch [1/5] - Loss: 1.9787\n",
      "Epoch [2/5] - Loss: 1.7711\n",
      "Epoch [3/5] - Loss: 1.7073\n",
      "Epoch [4/5] - Loss: 1.6603\n",
      "Epoch [5/5] - Loss: 1.6043\n",
      "Epoch [6/5] - Loss: 1.5522\n",
      "Epoch [7/5] - Loss: 1.5073\n",
      "Epoch [8/5] - Loss: 1.4642\n",
      "Epoch [9/5] - Loss: 1.4349\n",
      "Epoch [10/5] - Loss: 1.4078\n"
     ]
    }
   ],
   "source": [
    "# 1. Initialize full model\n",
    "model = FullCameraPipeline(num_classes=10).to(device)\n",
    "\n",
    "# 2. Load pretrained HE weights\n",
    "pretrained_he = torch.load(\"pretrained_he.pth\")\n",
    "model.he.load_state_dict(pretrained_he)\n",
    "\n",
    "optimizer = torch.optim.Adam(model.parameters(), lr=1e-3)\n",
    "criterion = nn.CrossEntropyLoss()\n",
    "\n",
    "for epoch in range(10):  # More epochs now\n",
    "    model.train()\n",
    "    running_loss = 0.0\n",
    "    for images, labels in train_loader:\n",
    "        images = images.to(device)\n",
    "        labels = labels.to(device)\n",
    "\n",
    "        outputs = model(images)\n",
    "        loss = criterion(outputs, labels)\n",
    "\n",
    "        optimizer.zero_grad()\n",
    "        loss.backward()\n",
    "        optimizer.step()\n",
    "\n",
    "        running_loss += loss.item()\n",
    "\n",
    "    avg_loss = running_loss / len(train_loader)\n",
    "    print(f\"Epoch [{epoch+1}/5] - Loss: {avg_loss:.4f}\")\n"
   ]
  },
  {
   "cell_type": "code",
   "execution_count": 17,
   "id": "9b00608c",
   "metadata": {},
   "outputs": [
    {
     "name": "stdout",
     "output_type": "stream",
     "text": [
      "Test Accuracy: 28.77%\n"
     ]
    },
    {
     "data": {
      "text/plain": [
       "0.2877"
      ]
     },
     "execution_count": 17,
     "metadata": {},
     "output_type": "execute_result"
    }
   ],
   "source": [
    "evaluate_model(model, test_loader)"
   ]
  },
  {
   "cell_type": "code",
   "execution_count": null,
   "id": "afe989fe",
   "metadata": {},
   "outputs": [],
   "source": []
  }
 ],
 "metadata": {
  "kernelspec": {
   "display_name": "envDiffCamPipe",
   "language": "python",
   "name": "python3"
  },
  "language_info": {
   "codemirror_mode": {
    "name": "ipython",
    "version": 3
   },
   "file_extension": ".py",
   "mimetype": "text/x-python",
   "name": "python",
   "nbconvert_exporter": "python",
   "pygments_lexer": "ipython3",
   "version": "3.12.3"
  }
 },
 "nbformat": 4,
 "nbformat_minor": 5
}
